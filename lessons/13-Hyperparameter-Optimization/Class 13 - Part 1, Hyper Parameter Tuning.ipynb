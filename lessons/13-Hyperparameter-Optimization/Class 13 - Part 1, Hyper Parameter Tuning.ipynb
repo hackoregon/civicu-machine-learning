{
 "cells": [
  {
   "cell_type": "markdown",
   "metadata": {},
   "source": [
    "## A. Agenda: \n",
    "- 6:05 - 6:45 - lecture: Hyper parameter theory\n",
    "- 6:45 - 7:30 - work time\n",
    "- 7:30 - 8:15 - lecture: Feature importance\n",
    "- 8:15 - 9 - work time\n",
    "\n",
    "## B. Interesting links / Resources\n",
    "\n",
    "Resources:\n",
    "- [Slides for Bayesian method](http://www.cs.toronto.edu/~rgrosse/courses/csc321_2017/slides/lec21.pdf)\n",
    "- [Grid search overview](http://scikit-learn.org/stable/modules/grid_search.html)\n",
    "- [website: cool optimization service](https://sigopt.com/pricing)\n",
    "\n",
    "|    | Learning Objectives                                                                           |\n",
    "| -- | --------------------------------------------------------------------------------------------- |\n",
    "| A. | Have conceptual and practical understanding, be able to list out the steps                    |\n",
    "| B. | Know how to use GridSearchCV and RandomSearchCV                                               |\n",
    "| C. | Have applied GridSearchCV and RandomSearchCV on a dataset on a model you’ve never used before |\n",
    "\n",
    "\n",
    "## C. Overview\n",
    "### Problem Statement:\n",
    "\n",
    "- We have some learner M with features X and hyper parameters Λ with loss function f(Λ|X).\n",
    "- Loss function is your choice. You optimize by minimizing it or maximize it. This is determined by your goals for the model.\n",
    "\n",
    "\n",
    "### Definitions:\n",
    "\n",
    "- Hyper Parameters: \n",
    "  - λ a model parameter that controls the complexity of a model. In other cases affect thresholds. A model may have many hyper parameters Λ refers to a set of hyper parameters.\n",
    "- Optimization Criteria:\n",
    "  - Your cost function selected from applicable error metrics. These can be (list here):\n",
    "    - LogLoss: \n",
    "    - RMSE, \n",
    "    - F1, \n",
    "    - Accuracy AUC\n",
    "  - Which one? and why?\n",
    "- What’s the industry standard?\n",
    "  - Random. "
   ]
  },
  {
   "cell_type": "code",
   "execution_count": 88,
   "metadata": {
    "collapsed": true
   },
   "outputs": [],
   "source": [
    "from sklearn.ensemble import RandomForestClassifier\n",
    "from sklearn.model_selection import train_test_split, GridSearchCV, RandomizedSearchCV, cross_val_score, cross_val_predict\n",
    "from scipy.stats import randint as sp_randint\n",
    "import pandas as pd\n",
    "import numpy as np\n",
    "%matplotlib inline"
   ]
  },
  {
   "cell_type": "code",
   "execution_count": 2,
   "metadata": {
    "collapsed": true
   },
   "outputs": [],
   "source": [
    "df = pd.read_csv('./data/titanic_2.csv')\n",
    "df = pd.concat([df,pd.get_dummies(df.PClass),pd.get_dummies(df.Title),pd.get_dummies(df.Sex)],  1)\n",
    "df = df.drop(['Sex','PClass','Title'],1)\n",
    "X = df.drop('Survived',1)\n",
    "y = df.Survived\n",
    "#train_X, train_y, test_X, test_ytrain_test_split(X,y, train)\n",
    "\n",
    "X_train, X_test, y_train, y_test = train_test_split(X, y, test_size = .15, random_state = 100)"
   ]
  },
  {
   "cell_type": "markdown",
   "metadata": {},
   "source": [
    "# Random Forest:\n",
    "\n",
    "\t\n",
    "- n_estimators: integer, optional (default=10), The number of trees in the forest.\n",
    "- criterion: (default=”gini”) The function to measure the quality of a split. Supported criteria are “gini” for the Gini impurity and “entropy” for the information gain. Note: this parameter is tree-specific.\n",
    "- max_features:optional (default=”auto”) The number of features to consider when looking for the best split:\n",
    "- max_depth: The maximum depth of the tree. If None, then nodes are expanded until all leaves are pure or until all leaves contain less than min_samples_split samples.\n",
    "- min_samples_split: (default=2) The minimum number of samples required to split an internal node:\n",
    "- min_samples_leaf:  (default=1)The minimum number of samples required to be at a leaf node.\n",
    "\n",
    "### Baseline"
   ]
  },
  {
   "cell_type": "code",
   "execution_count": 71,
   "metadata": {},
   "outputs": [
    {
     "data": {
      "text/plain": [
       "0.79695431472081213"
      ]
     },
     "execution_count": 71,
     "metadata": {},
     "output_type": "execute_result"
    }
   ],
   "source": [
    "clf = RandomForestClassifier(n_jobs=-1, n_estimators = 10)\n",
    "clf.fit(X_train,y_train)\n",
    "clf.score(X_test, y_test)"
   ]
  },
  {
   "cell_type": "markdown",
   "metadata": {},
   "source": [
    "## Defining Ranges"
   ]
  },
  {
   "cell_type": "code",
   "execution_count": 99,
   "metadata": {},
   "outputs": [],
   "source": [
    "def explore_grid (param_grid):\n",
    "    clf = RandomForestClassifier(n_jobs=-1, n_estimators = 10)\n",
    "    grid_explore = GridSearchCV(\n",
    "        clf,\n",
    "        param_grid,\n",
    "        cv=4,\n",
    "        scoring='accuracy')\n",
    "    grid_explore.fit(X_train, y_train)\n",
    "    return pd.DataFrame(grid_explore.grid_scores_)[['parameters','mean_validation_score']]"
   ]
  },
  {
   "cell_type": "code",
   "execution_count": 105,
   "metadata": {},
   "outputs": [
    {
     "name": "stderr",
     "output_type": "stream",
     "text": [
      "C:\\Users\\Cglan\\AppData\\Local\\Continuum\\Anaconda3\\lib\\site-packages\\sklearn\\model_selection\\_search.py:667: DeprecationWarning: The grid_scores_ attribute was deprecated in version 0.18 in favor of the more elaborate cv_results_ attribute. The grid_scores_ attribute will not be available from 0.20\n",
      "  DeprecationWarning)\n"
     ]
    },
    {
     "data": {
      "text/plain": [
       "<matplotlib.axes._subplots.AxesSubplot at 0x189d447cdd8>"
      ]
     },
     "execution_count": 105,
     "metadata": {},
     "output_type": "execute_result"
    },
    {
     "data": {
      "image/png": "[encoded data removed]",
      "text/plain": [
       "<matplotlib.figure.Figure at 0x189d434fef0>"
      ]
     },
     "metadata": {},
     "output_type": "display_data"
    }
   ],
   "source": [
    "max_depth_explore = explore_grid([{\"max_features\": np.arange(1,10)}])\n",
    "max_depth_explore.plot()"
   ]
  },
  {
   "cell_type": "code",
   "execution_count": 101,
   "metadata": {},
   "outputs": [
    {
     "data": {
      "text/plain": [
       "<matplotlib.axes._subplots.AxesSubplot at 0x189d2794ac8>"
      ]
     },
     "execution_count": 101,
     "metadata": {},
     "output_type": "execute_result"
    },
    {
     "data": {
      "image/png": "[encoded data removed]",
      "text/plain": [
       "<matplotlib.figure.Figure at 0x189d2749940>"
      ]
     },
     "metadata": {},
     "output_type": "display_data"
    }
   ],
   "source": [
    "max_depth_explore = explore_grid([{\"max_depth\": np.arange(1,20)}])\n",
    "max_depth_explore.plot()"
   ]
  },
  {
   "cell_type": "markdown",
   "metadata": {},
   "source": [
    "### Grid Search\n",
    "Your turn: Define feature space"
   ]
  },
  {
   "cell_type": "code",
   "execution_count": 106,
   "metadata": {},
   "outputs": [
    {
     "data": {
      "text/plain": [
       "GridSearchCV(cv=4, error_score='raise',\n",
       "       estimator=RandomForestClassifier(bootstrap=True, class_weight=None, criterion='gini',\n",
       "            max_depth=None, max_features='auto', max_leaf_nodes=None,\n",
       "            min_impurity_split=1e-07, min_samples_leaf=1,\n",
       "            min_samples_split=2, min_weight_fraction_leaf=0.0,\n",
       "            n_estimators=10, n_jobs=-1, oob_score=False, random_state=None,\n",
       "            verbose=0, warm_start=False),\n",
       "       fit_params={}, iid=True, n_jobs=1,\n",
       "       param_grid=[{'max_depth': [1, 2, 3, 6, 7], 'max_features': [2, 4, 6, 8]}],\n",
       "       pre_dispatch='2*n_jobs', refit=True, return_train_score=True,\n",
       "       scoring='accuracy', verbose=0)"
      ]
     },
     "execution_count": 106,
     "metadata": {},
     "output_type": "execute_result"
    }
   ],
   "source": [
    "param_grid = [{\n",
    "    \"max_depth\": [],\n",
    "    \"max_features\": []\n",
    "}]\n",
    "\n",
    "\n",
    "clf = RandomForestClassifier(n_jobs=-1, n_estimators = 10)\n",
    "\n",
    "grid_search = GridSearchCV(\n",
    "    clf,\n",
    "    param_grid,\n",
    "    cv=4,\n",
    "    scoring='accuracy')\n",
    "\n",
    "\n",
    "grid_search.fit(X_train, y_train)"
   ]
  },
  {
   "cell_type": "markdown",
   "metadata": {},
   "source": [
    "## Random Search\n",
    "Your turn: Define feature space"
   ]
  },
  {
   "cell_type": "code",
   "execution_count": 107,
   "metadata": {},
   "outputs": [
    {
     "data": {
      "text/plain": [
       "RandomizedSearchCV(cv=4, error_score='raise',\n",
       "          estimator=RandomForestClassifier(bootstrap=True, class_weight=None, criterion='gini',\n",
       "            max_depth=None, max_features='auto', max_leaf_nodes=None,\n",
       "            min_impurity_split=1e-07, min_samples_leaf=1,\n",
       "            min_samples_split=2, min_weight_fraction_leaf=0.0,\n",
       "            n_estimators=10, n_jobs=-1, oob_score=False, random_state=None,\n",
       "            verbose=0, warm_start=False),\n",
       "          fit_params={}, iid=True, n_iter=7, n_jobs=1,\n",
       "          param_distributions={'max_depth': array([1, 2, 3, 4, 5, 6]), 'max_features': array([1, 2, 3, 4, 5, 6, 7, 8, 9])},\n",
       "          pre_dispatch='2*n_jobs', random_state=None, refit=True,\n",
       "          return_train_score=True, scoring=None, verbose=0)"
      ]
     },
     "execution_count": 107,
     "metadata": {},
     "output_type": "execute_result"
    }
   ],
   "source": [
    "\n",
    "param_dist = {\"max_depth\": ,\n",
    "              \"max_features\":,\n",
    "\n",
    "             }\n",
    "\n",
    "clf = RandomForestClassifier(n_jobs=-1, n_estimators = 10)\n",
    "\n",
    "# run randomized search\n",
    "n_iter_search = 7\n",
    "random_search = RandomizedSearchCV(clf, param_distributions=param_dist,\n",
    "                                   cv=4,\n",
    "                                   n_iter=n_iter_search)\n",
    "random_search.fit(X, y)\n"
   ]
  },
  {
   "cell_type": "markdown",
   "metadata": {},
   "source": [
    "# Check the best Estimator"
   ]
  },
  {
   "cell_type": "code",
   "execution_count": 108,
   "metadata": {
    "scrolled": true
   },
   "outputs": [
    {
     "data": {
      "text/plain": [
       "RandomForestClassifier(bootstrap=True, class_weight=None, criterion='gini',\n",
       "            max_depth=3, max_features=8, max_leaf_nodes=None,\n",
       "            min_impurity_split=1e-07, min_samples_leaf=1,\n",
       "            min_samples_split=2, min_weight_fraction_leaf=0.0,\n",
       "            n_estimators=10, n_jobs=-1, oob_score=False, random_state=None,\n",
       "            verbose=0, warm_start=False)"
      ]
     },
     "execution_count": 108,
     "metadata": {},
     "output_type": "execute_result"
    }
   ],
   "source": [
    "grid_search.best_estimator_"
   ]
  },
  {
   "cell_type": "code",
   "execution_count": 109,
   "metadata": {},
   "outputs": [
    {
     "data": {
      "text/plain": [
       "RandomForestClassifier(bootstrap=True, class_weight=None, criterion='gini',\n",
       "            max_depth=2, max_features=8, max_leaf_nodes=None,\n",
       "            min_impurity_split=1e-07, min_samples_leaf=1,\n",
       "            min_samples_split=2, min_weight_fraction_leaf=0.0,\n",
       "            n_estimators=10, n_jobs=-1, oob_score=False, random_state=None,\n",
       "            verbose=0, warm_start=False)"
      ]
     },
     "execution_count": 109,
     "metadata": {},
     "output_type": "execute_result"
    }
   ],
   "source": [
    "random_search.best_estimator_"
   ]
  },
  {
   "cell_type": "markdown",
   "metadata": {},
   "source": [
    "# Get all scores"
   ]
  },
  {
   "cell_type": "code",
   "execution_count": 110,
   "metadata": {},
   "outputs": [],
   "source": [
    "rand_out = pd.DataFrame(random_search.cv_results_)\n",
    "rand_out['which'] = 'rand'\n",
    "grid_out = pd.DataFrame(grid_search.cv_results_)\n",
    "grid_out['which'] = 'grid'\n",
    "all_out = rand_out[['mean_test_score', 'mean_train_score','which']].append(grid_out[['mean_test_score', 'mean_train_score','which']])"
   ]
  },
  {
   "cell_type": "code",
   "execution_count": 111,
   "metadata": {},
   "outputs": [
    {
     "data": {
      "text/html": [
       "<div>\n",
       "<table border=\"1\" class=\"dataframe\">\n",
       "  <thead>\n",
       "    <tr style=\"text-align: right;\">\n",
       "      <th></th>\n",
       "      <th>mean_test_score</th>\n",
       "      <th>mean_train_score</th>\n",
       "      <th>which</th>\n",
       "    </tr>\n",
       "  </thead>\n",
       "  <tbody>\n",
       "    <tr>\n",
       "      <th>17</th>\n",
       "      <td>0.816308</td>\n",
       "      <td>0.865283</td>\n",
       "      <td>grid</td>\n",
       "    </tr>\n",
       "    <tr>\n",
       "      <th>19</th>\n",
       "      <td>0.810036</td>\n",
       "      <td>0.864691</td>\n",
       "      <td>grid</td>\n",
       "    </tr>\n",
       "    <tr>\n",
       "      <th>18</th>\n",
       "      <td>0.813620</td>\n",
       "      <td>0.860806</td>\n",
       "      <td>grid</td>\n",
       "    </tr>\n",
       "    <tr>\n",
       "      <th>16</th>\n",
       "      <td>0.813620</td>\n",
       "      <td>0.860203</td>\n",
       "      <td>grid</td>\n",
       "    </tr>\n",
       "    <tr>\n",
       "      <th>1</th>\n",
       "      <td>0.709063</td>\n",
       "      <td>0.857564</td>\n",
       "      <td>rand</td>\n",
       "    </tr>\n",
       "    <tr>\n",
       "      <th>15</th>\n",
       "      <td>0.817204</td>\n",
       "      <td>0.856329</td>\n",
       "      <td>grid</td>\n",
       "    </tr>\n",
       "    <tr>\n",
       "      <th>14</th>\n",
       "      <td>0.819892</td>\n",
       "      <td>0.853635</td>\n",
       "      <td>grid</td>\n",
       "    </tr>\n",
       "    <tr>\n",
       "      <th>13</th>\n",
       "      <td>0.815412</td>\n",
       "      <td>0.852140</td>\n",
       "      <td>grid</td>\n",
       "    </tr>\n",
       "    <tr>\n",
       "      <th>12</th>\n",
       "      <td>0.818100</td>\n",
       "      <td>0.850949</td>\n",
       "      <td>grid</td>\n",
       "    </tr>\n",
       "    <tr>\n",
       "      <th>6</th>\n",
       "      <td>0.727342</td>\n",
       "      <td>0.849692</td>\n",
       "      <td>rand</td>\n",
       "    </tr>\n",
       "  </tbody>\n",
       "</table>\n",
       "</div>"
      ],
      "text/plain": [
       "    mean_test_score  mean_train_score which\n",
       "17         0.816308          0.865283  grid\n",
       "19         0.810036          0.864691  grid\n",
       "18         0.813620          0.860806  grid\n",
       "16         0.813620          0.860203  grid\n",
       "1          0.709063          0.857564  rand\n",
       "15         0.817204          0.856329  grid\n",
       "14         0.819892          0.853635  grid\n",
       "13         0.815412          0.852140  grid\n",
       "12         0.818100          0.850949  grid\n",
       "6          0.727342          0.849692  rand"
      ]
     },
     "execution_count": 111,
     "metadata": {},
     "output_type": "execute_result"
    }
   ],
   "source": [
    "all_out.sort_values('mean_train_score',ascending = False).head(10)"
   ]
  },
  {
   "cell_type": "markdown",
   "metadata": {},
   "source": [
    "# Holdout test on both best estimators"
   ]
  },
  {
   "cell_type": "code",
   "execution_count": 112,
   "metadata": {},
   "outputs": [
    {
     "data": {
      "text/plain": [
       "(0.84771573604060912, 0.84771573604060912)"
      ]
     },
     "execution_count": 112,
     "metadata": {},
     "output_type": "execute_result"
    }
   ],
   "source": [
    "random_search.best_estimator_.score(X_test,y_test), grid_search.best_estimator_.score(X_test,y_test)"
   ]
  },
  {
   "cell_type": "markdown",
   "metadata": {},
   "source": [
    "# Question 1: \n",
    "1. Add one or two more hyper parameters\n",
    "2. Time time the tuning\n",
    "3. which is faster? which is more accurate?\n"
   ]
  },
  {
   "cell_type": "markdown",
   "metadata": {},
   "source": [
    "# Question 2:\n",
    "1. Choose a data set from [the UCI ML repo](http://archive.ics.uci.edu/ml/index.php)\n",
    "2. Choose a model, folds to CV, loss function (rmse or accuracy, or others)\n",
    "3. Tune model using one or both methods\n",
    "4. Attempt to maximize your loss function"
   ]
  }
 ],
 "metadata": {
  "kernelspec": {
   "display_name": "Python 3",
   "language": "python",
   "name": "python3"
  },
  "language_info": {
   "codemirror_mode": {
    "name": "ipython",
    "version": 3
   },
   "file_extension": ".py",
   "mimetype": "text/x-python",
   "name": "python",
   "nbconvert_exporter": "python",
   "pygments_lexer": "ipython3",
   "version": "3.6.0"
  }
 },
 "nbformat": 4,
 "nbformat_minor": 2
}
